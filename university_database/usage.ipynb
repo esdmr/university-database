{
 "cells": [
  {
   "cell_type": "code",
   "execution_count": 61,
   "metadata": {},
   "outputs": [],
   "source": [
    "import pymysql as ms\n",
    "import pymysql.cursors as msc\n",
    "import pandas as pd\n",
    "from typing import Any\n",
    "from datetime import date, time\n",
    "from helpers import *"
   ]
  },
  {
   "cell_type": "code",
   "execution_count": 62,
   "metadata": {},
   "outputs": [],
   "source": [
    "def connect() -> \"ms.Connection[msc.DictCursor]\":\n",
    "    return ms.connect(\n",
    "        host=\"localhost\",\n",
    "        port=3306,\n",
    "        user=\"root\",\n",
    "        password=\"root\",\n",
    "        database=\"university\",\n",
    "        autocommit=True,\n",
    "        cursorclass=msc.DictCursor,\n",
    "    )"
   ]
  },
  {
   "cell_type": "code",
   "execution_count": 63,
   "metadata": {},
   "outputs": [],
   "source": [
    "def add_student(\n",
    "    f_name: str | None,\n",
    "    l_name: str | None,\n",
    "    birth: date | None,\n",
    "    address: str | None,\n",
    "    email: str | None,\n",
    "    phone: str | None,\n",
    "    gender: str | None,\n",
    "    first_term: int | None,\n",
    ") -> int:\n",
    "    with connect() as conn:\n",
    "        with conn.cursor() as cur:\n",
    "            return insert_one(\n",
    "                cur,\n",
    "                \"Student\",\n",
    "                f_name=f_name,\n",
    "                l_name=l_name,\n",
    "                birth=birth,\n",
    "                address=address,\n",
    "                email=email,\n",
    "                phone=phone,\n",
    "                gender=gender,\n",
    "                first_term=first_term,\n",
    "            )"
   ]
  },
  {
   "cell_type": "code",
   "execution_count": 64,
   "metadata": {},
   "outputs": [],
   "source": [
    "def add_professor(\n",
    "    f_name: str | None,\n",
    "    l_name: str | None,\n",
    "    birth: date | None,\n",
    "    address: str | None,\n",
    "    email: str | None,\n",
    "    phone: str | None,\n",
    "    gender: str | None,\n",
    "    title: str | None,\n",
    "    office: int | None,\n",
    ") -> int:\n",
    "    with connect() as conn:\n",
    "        with conn.cursor() as cur:\n",
    "            return insert_one(\n",
    "                cur,\n",
    "                \"Professor\",\n",
    "                f_name=f_name,\n",
    "                l_name=l_name,\n",
    "                birth=birth,\n",
    "                address=address,\n",
    "                email=email,\n",
    "                phone=phone,\n",
    "                gender=gender,\n",
    "                title=title,\n",
    "                office=office,\n",
    "            )"
   ]
  },
  {
   "cell_type": "code",
   "execution_count": 65,
   "metadata": {},
   "outputs": [],
   "source": [
    "def add_department(name: str | None):\n",
    "    with connect() as conn:\n",
    "        with conn.cursor() as cur:\n",
    "            return insert_one(cur, \"Department\", name=name)"
   ]
  },
  {
   "cell_type": "code",
   "execution_count": 66,
   "metadata": {},
   "outputs": [],
   "source": [
    "def add_major(name: str | None, department_id: int):\n",
    "    with connect() as conn:\n",
    "        with conn.cursor() as cur:\n",
    "            return insert_one(cur, \"Major\", name=name, department_id=department_id)"
   ]
  },
  {
   "cell_type": "code",
   "execution_count": 67,
   "metadata": {},
   "outputs": [],
   "source": [
    "def add_course(\n",
    "    name: str | None, theoretical_units: int | None, practical_units: int | None\n",
    "):\n",
    "    with connect() as conn:\n",
    "        with conn.cursor() as cur:\n",
    "            return insert_one(\n",
    "                cur,\n",
    "                \"Course\",\n",
    "                name=name,\n",
    "                theoretical_units=theoretical_units,\n",
    "                practical_units=practical_units,\n",
    "            )"
   ]
  },
  {
   "cell_type": "code",
   "execution_count": 68,
   "metadata": {},
   "outputs": [],
   "source": [
    "def add_course_group(\n",
    "    term: int | None,\n",
    "    classroom: int | None,\n",
    "    week_day: int | None,\n",
    "    start_time: time | None,\n",
    "    end_time: time | None,\n",
    "    professor_id: int,\n",
    "    course_id: int,\n",
    "):\n",
    "    with connect() as conn:\n",
    "        with conn.cursor() as cur:\n",
    "            return insert_one(\n",
    "                cur,\n",
    "                \"CourseGroup\",\n",
    "                term=term,\n",
    "                classroom=classroom,\n",
    "                week_day=week_day,\n",
    "                start_time=start_time,\n",
    "                end_time=end_time,\n",
    "                professor_id=professor_id,\n",
    "                course_id=course_id,\n",
    "            )"
   ]
  },
  {
   "cell_type": "code",
   "execution_count": 69,
   "metadata": {},
   "outputs": [],
   "source": [
    "def add_study(grade: int | float | None, student_id: int, course_group_id: int):\n",
    "    with connect() as conn:\n",
    "        with conn.cursor() as cur:\n",
    "            return insert_one(\n",
    "                cur,\n",
    "                \"Study\",\n",
    "                grade=grade,\n",
    "                student_id=student_id,\n",
    "                course_group_id=course_group_id,\n",
    "            )"
   ]
  },
  {
   "cell_type": "code",
   "execution_count": 70,
   "metadata": {},
   "outputs": [],
   "source": [
    "def add_enrollment(student_id: int, major_id: int):\n",
    "    with connect() as conn:\n",
    "        with conn.cursor() as cur:\n",
    "            return insert_one(\n",
    "                cur, \"Enrollment\", student_id=student_id, major_id=major_id\n",
    "            )"
   ]
  },
  {
   "cell_type": "code",
   "execution_count": 71,
   "metadata": {},
   "outputs": [],
   "source": [
    "def update_student_email(id: int, email: str | None):\n",
    "    with connect() as conn:\n",
    "        with conn.cursor() as cur:\n",
    "            update(cur, \"Student\", id, email=email)"
   ]
  },
  {
   "cell_type": "code",
   "execution_count": 72,
   "metadata": {},
   "outputs": [],
   "source": [
    "def update_professor_email(id: int, email: str | None):\n",
    "    with connect() as conn:\n",
    "        with conn.cursor() as cur:\n",
    "            update(cur, \"Professor\", id, email=email)"
   ]
  },
  {
   "cell_type": "code",
   "execution_count": 73,
   "metadata": {},
   "outputs": [],
   "source": [
    "def update_student_phone(id: int, phone: str | None):\n",
    "    with connect() as conn:\n",
    "        with conn.cursor() as cur:\n",
    "            update(cur, \"Student\", id, phone=phone)"
   ]
  },
  {
   "cell_type": "code",
   "execution_count": 74,
   "metadata": {},
   "outputs": [],
   "source": [
    "def update_professor_phone(id: int, phone: str | None):\n",
    "    with connect() as conn:\n",
    "        with conn.cursor() as cur:\n",
    "            update(cur, \"Professor\", id, phone=phone)"
   ]
  },
  {
   "cell_type": "code",
   "execution_count": 75,
   "metadata": {},
   "outputs": [],
   "source": [
    "def update_professor_title(id: int, title: str | None):\n",
    "    with connect() as conn:\n",
    "        with conn.cursor() as cur:\n",
    "            update(cur, \"Professor\", id, title=title)"
   ]
  },
  {
   "cell_type": "code",
   "execution_count": 76,
   "metadata": {},
   "outputs": [],
   "source": [
    "def update_professor_office(id: int, office: int | None):\n",
    "    with connect() as conn:\n",
    "        with conn.cursor() as cur:\n",
    "            update(cur, \"Professor\", id, office=office)"
   ]
  },
  {
   "cell_type": "code",
   "execution_count": 77,
   "metadata": {},
   "outputs": [],
   "source": [
    "def update_course_group_class(id: int, classroom: int | None):\n",
    "    with connect() as conn:\n",
    "        with conn.cursor() as cur:\n",
    "            update(cur, \"CourseGroup\", id, classroom=classroom)"
   ]
  },
  {
   "cell_type": "code",
   "execution_count": 78,
   "metadata": {},
   "outputs": [],
   "source": [
    "def update_course_group_time_slot(\n",
    "    id: int, week_day: int | None, start_time: time | None, end_time: time | None\n",
    "):\n",
    "    with connect() as conn:\n",
    "        with conn.cursor() as cur:\n",
    "            update(\n",
    "                cur,\n",
    "                \"CourseGroup\",\n",
    "                id,\n",
    "                week_day=week_day,\n",
    "                start_time=start_time,\n",
    "                end_time=end_time,\n",
    "            )"
   ]
  },
  {
   "cell_type": "code",
   "execution_count": 79,
   "metadata": {},
   "outputs": [],
   "source": [
    "def update_course_group_professor(id: int, professor: int):\n",
    "    with connect() as conn:\n",
    "        with conn.cursor() as cur:\n",
    "            update(cur, \"CourseGroup\", id, professor=professor)"
   ]
  },
  {
   "cell_type": "code",
   "execution_count": 80,
   "metadata": {},
   "outputs": [],
   "source": [
    "def update_study_grade(id: int, grade: int | float | None):\n",
    "    with connect() as conn:\n",
    "        with conn.cursor() as cur:\n",
    "            update(cur, \"Study\", id, grade=grade)"
   ]
  },
  {
   "cell_type": "code",
   "execution_count": 81,
   "metadata": {},
   "outputs": [
    {
     "data": {
      "text/plain": [
       "1"
      ]
     },
     "execution_count": 81,
     "metadata": {},
     "output_type": "execute_result"
    }
   ],
   "source": [
    "computer_department = add_department(\"Computer\")\n",
    "computer_department"
   ]
  },
  {
   "cell_type": "code",
   "execution_count": 82,
   "metadata": {},
   "outputs": [
    {
     "data": {
      "text/plain": [
       "1"
      ]
     },
     "execution_count": 82,
     "metadata": {},
     "output_type": "execute_result"
    }
   ],
   "source": [
    "computer_engineering_major = add_major(\"Computer Engineering\", computer_department)\n",
    "computer_engineering_major"
   ]
  },
  {
   "cell_type": "code",
   "execution_count": 83,
   "metadata": {},
   "outputs": [
    {
     "data": {
      "text/plain": [
       "1"
      ]
     },
     "execution_count": 83,
     "metadata": {},
     "output_type": "execute_result"
    }
   ],
   "source": [
    "data_structures_course = add_course(\"Data Structures\", 3, 0)\n",
    "data_structures_course"
   ]
  },
  {
   "cell_type": "code",
   "execution_count": 84,
   "metadata": {},
   "outputs": [
    {
     "data": {
      "text/plain": [
       "1"
      ]
     },
     "execution_count": 84,
     "metadata": {},
     "output_type": "execute_result"
    }
   ],
   "source": [
    "jake_taylor_professor = add_professor(\n",
    "    \"Jake\",\n",
    "    \"Taylor\",\n",
    "    date(1980, 2, 27),\n",
    "    \"Some address idk\",\n",
    "    \"vip@prof.co.uk\",\n",
    "    \"009898989898\",\n",
    "    \"M\",\n",
    "    \"Computer Professor\",\n",
    "    3,\n",
    ")\n",
    "jake_taylor_professor"
   ]
  },
  {
   "cell_type": "code",
   "execution_count": 85,
   "metadata": {},
   "outputs": [
    {
     "data": {
      "text/plain": [
       "1"
      ]
     },
     "execution_count": 85,
     "metadata": {},
     "output_type": "execute_result"
    }
   ],
   "source": [
    "tuesday_data_structures_course_group = add_course_group(\n",
    "    4,\n",
    "    120,\n",
    "    3,\n",
    "    time(10, 0, 0),\n",
    "    time(12, 0, 0),\n",
    "    jake_taylor_professor,\n",
    "    data_structures_course,\n",
    ")\n",
    "tuesday_data_structures_course_group"
   ]
  },
  {
   "cell_type": "code",
   "execution_count": 86,
   "metadata": {},
   "outputs": [
    {
     "data": {
      "text/plain": [
       "1"
      ]
     },
     "execution_count": 86,
     "metadata": {},
     "output_type": "execute_result"
    }
   ],
   "source": [
    "ahmed_adams_student = add_student(\n",
    "    \"Ahmed\",\n",
    "    \"Adams\",\n",
    "    date(2004, 12, 7),\n",
    "    \"Some other address idk\",\n",
    "    \"rando@gmail.com\",\n",
    "    \"00184736\",\n",
    "    \"M\",\n",
    "    3,\n",
    ")\n",
    "ahmed_adams_student"
   ]
  },
  {
   "cell_type": "code",
   "execution_count": 87,
   "metadata": {},
   "outputs": [
    {
     "data": {
      "text/plain": [
       "1"
      ]
     },
     "execution_count": 87,
     "metadata": {},
     "output_type": "execute_result"
    }
   ],
   "source": [
    "adams_computer_engineering_enrollment = add_enrollment(\n",
    "    ahmed_adams_student, computer_engineering_major\n",
    ")\n",
    "adams_computer_engineering_enrollment"
   ]
  },
  {
   "cell_type": "code",
   "execution_count": 88,
   "metadata": {},
   "outputs": [
    {
     "data": {
      "text/plain": [
       "1"
      ]
     },
     "execution_count": 88,
     "metadata": {},
     "output_type": "execute_result"
    }
   ],
   "source": [
    "adams_tuesday_data_structures_study = add_study(\n",
    "    None, ahmed_adams_student, tuesday_data_structures_course_group\n",
    ")\n",
    "adams_tuesday_data_structures_study"
   ]
  },
  {
   "cell_type": "code",
   "execution_count": 89,
   "metadata": {},
   "outputs": [],
   "source": [
    "update_study_grade(adams_tuesday_data_structures_study, 20)"
   ]
  },
  {
   "cell_type": "code",
   "execution_count": 90,
   "metadata": {},
   "outputs": [
    {
     "data": {
      "text/html": [
       "<div>\n",
       "<style scoped>\n",
       "    .dataframe tbody tr th:only-of-type {\n",
       "        vertical-align: middle;\n",
       "    }\n",
       "\n",
       "    .dataframe tbody tr th {\n",
       "        vertical-align: top;\n",
       "    }\n",
       "\n",
       "    .dataframe thead th {\n",
       "        text-align: right;\n",
       "    }\n",
       "</style>\n",
       "<table border=\"1\" class=\"dataframe\">\n",
       "  <thead>\n",
       "    <tr style=\"text-align: right;\">\n",
       "      <th></th>\n",
       "      <th>id</th>\n",
       "      <th>f_name</th>\n",
       "      <th>l_name</th>\n",
       "      <th>birth</th>\n",
       "      <th>address</th>\n",
       "      <th>email</th>\n",
       "      <th>phone</th>\n",
       "      <th>gender</th>\n",
       "      <th>first_term</th>\n",
       "    </tr>\n",
       "  </thead>\n",
       "  <tbody>\n",
       "    <tr>\n",
       "      <th>0</th>\n",
       "      <td>1</td>\n",
       "      <td>Ahmed</td>\n",
       "      <td>Adams</td>\n",
       "      <td>2004-12-07</td>\n",
       "      <td>Some other address idk</td>\n",
       "      <td>rando@gmail.com</td>\n",
       "      <td>00184736</td>\n",
       "      <td>M</td>\n",
       "      <td>3</td>\n",
       "    </tr>\n",
       "  </tbody>\n",
       "</table>\n",
       "</div>"
      ],
      "text/plain": [
       "   id f_name l_name       birth                 address            email  \\\n",
       "0   1  Ahmed  Adams  2004-12-07  Some other address idk  rando@gmail.com   \n",
       "\n",
       "      phone gender  first_term  \n",
       "0  00184736      M           3  "
      ]
     },
     "execution_count": 90,
     "metadata": {},
     "output_type": "execute_result"
    }
   ],
   "source": [
    "with connect() as conn:\n",
    "    with conn.cursor() as cur:\n",
    "        cur.execute('SELECT * FROM Student WHERE f_name = \"Ahmed\"')\n",
    "        result = pd.DataFrame(cur.fetchall())\n",
    "\n",
    "result"
   ]
  },
  {
   "cell_type": "code",
   "execution_count": 94,
   "metadata": {},
   "outputs": [
    {
     "data": {
      "text/html": [
       "<div>\n",
       "<style scoped>\n",
       "    .dataframe tbody tr th:only-of-type {\n",
       "        vertical-align: middle;\n",
       "    }\n",
       "\n",
       "    .dataframe tbody tr th {\n",
       "        vertical-align: top;\n",
       "    }\n",
       "\n",
       "    .dataframe thead th {\n",
       "        text-align: right;\n",
       "    }\n",
       "</style>\n",
       "<table border=\"1\" class=\"dataframe\">\n",
       "  <thead>\n",
       "    <tr style=\"text-align: right;\">\n",
       "      <th></th>\n",
       "      <th>grade</th>\n",
       "      <th>name</th>\n",
       "      <th>term</th>\n",
       "      <th>units</th>\n",
       "    </tr>\n",
       "  </thead>\n",
       "  <tbody>\n",
       "    <tr>\n",
       "      <th>0</th>\n",
       "      <td>20.00</td>\n",
       "      <td>Data Structures</td>\n",
       "      <td>4</td>\n",
       "      <td>3</td>\n",
       "    </tr>\n",
       "  </tbody>\n",
       "</table>\n",
       "</div>"
      ],
      "text/plain": [
       "   grade             name  term  units\n",
       "0  20.00  Data Structures     4      3"
      ]
     },
     "execution_count": 94,
     "metadata": {},
     "output_type": "execute_result"
    }
   ],
   "source": [
    "with connect() as conn:\n",
    "    with conn.cursor() as cur:\n",
    "        cur.execute(\n",
    "            \"\"\"SELECT s.grade, c.name, cg.term, (c.theoretical_units + c.practical_units) as units\n",
    "               FROM Study as s\n",
    "               INNER JOIN CourseGroup as cg\n",
    "               ON cg.id = s.course_group_id\n",
    "               INNER JOIN Course as c\n",
    "               ON c.id = cg.course_id\n",
    "               WHERE s.student_id = %s\n",
    "            \"\"\",\n",
    "            [ahmed_adams_student],\n",
    "        )\n",
    "        grades_of_ahmed_adams = pd.DataFrame(cur.fetchall())\n",
    "\n",
    "grades_of_ahmed_adams"
   ]
  },
  {
   "cell_type": "code",
   "execution_count": 95,
   "metadata": {},
   "outputs": [
    {
     "data": {
      "text/html": [
       "<div>\n",
       "<style scoped>\n",
       "    .dataframe tbody tr th:only-of-type {\n",
       "        vertical-align: middle;\n",
       "    }\n",
       "\n",
       "    .dataframe tbody tr th {\n",
       "        vertical-align: top;\n",
       "    }\n",
       "\n",
       "    .dataframe thead th {\n",
       "        text-align: right;\n",
       "    }\n",
       "</style>\n",
       "<table border=\"1\" class=\"dataframe\">\n",
       "  <thead>\n",
       "    <tr style=\"text-align: right;\">\n",
       "      <th></th>\n",
       "      <th>grade</th>\n",
       "      <th>f_name</th>\n",
       "      <th>l_name</th>\n",
       "    </tr>\n",
       "  </thead>\n",
       "  <tbody>\n",
       "    <tr>\n",
       "      <th>0</th>\n",
       "      <td>20.00</td>\n",
       "      <td>Ahmed</td>\n",
       "      <td>Adams</td>\n",
       "    </tr>\n",
       "  </tbody>\n",
       "</table>\n",
       "</div>"
      ],
      "text/plain": [
       "   grade f_name l_name\n",
       "0  20.00  Ahmed  Adams"
      ]
     },
     "execution_count": 95,
     "metadata": {},
     "output_type": "execute_result"
    }
   ],
   "source": [
    "with connect() as conn:\n",
    "    with conn.cursor() as cur:\n",
    "        cur.execute(\n",
    "            \"\"\"SELECT s.grade, st.f_name, st.l_name\n",
    "               FROM Study as s\n",
    "               INNER JOIN Student as st\n",
    "               ON st.id = s.student_id\n",
    "               WHERE s.course_group_id = %s\n",
    "            \"\"\",\n",
    "            [tuesday_data_structures_course_group],\n",
    "        )\n",
    "        grades_of_tuesday_data_structures = pd.DataFrame(cur.fetchall())\n",
    "\n",
    "grades_of_tuesday_data_structures"
   ]
  }
 ],
 "metadata": {
  "kernelspec": {
   "display_name": "Python 3 (ipykernel)",
   "language": "python",
   "name": "python3"
  },
  "language_info": {
   "codemirror_mode": {
    "name": "ipython",
    "version": 3
   },
   "file_extension": ".py",
   "mimetype": "text/x-python",
   "name": "python",
   "nbconvert_exporter": "python",
   "pygments_lexer": "ipython3",
   "version": "3.12.2"
  }
 },
 "nbformat": 4,
 "nbformat_minor": 2
}
